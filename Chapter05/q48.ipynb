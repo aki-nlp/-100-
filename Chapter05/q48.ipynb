{
 "cells": [
  {
   "cell_type": "code",
   "execution_count": 1,
   "metadata": {},
   "outputs": [],
   "source": [
    "import CaboCha\n",
    "\n",
    "\n",
    "fname_parsed = 'ai.ja/ai.ja.txt.parsed'\n"
   ]
  },
  {
   "cell_type": "code",
   "execution_count": 2,
   "metadata": {},
   "outputs": [],
   "source": [
    "class Morph:\n",
    "    def __init__(self, dct):\n",
    "        self.surface = dct['surface']\n",
    "        self.base = dct['base']\n",
    "        self.pos = dct['pos']\n",
    "        self.pos1 = dct['pos1']\n",
    "        \n",
    "    def __str__(self):\n",
    "        return \"surface:'{}',  base: '{}', pos: '{}',  pos1: '{}'\"\\\n",
    "            .format(self.surface, self.base, self.pos, self.pos1)\n",
    "    \n",
    "\n",
    "class Chunk:\n",
    "    def __init__(self, morphs, dst):\n",
    "        self.morphs = morphs     # 形態素（Morphオブジェクト）のリスト\n",
    "        self.dst = dst                   # 係り先文節インデックス番号\n",
    "        self.srcs = []                    # 係り元文節インデックス番号のリスト\n",
    "        \n",
    "    def __str__(self):\n",
    "        return \"morphs:'{}',  dst: '{}', srcs: '{}'\"\\\n",
    "            .format(self.morphs, self.dst, self.srcs)\n",
    "    "
   ]
  },
  {
   "cell_type": "code",
   "execution_count": 3,
   "metadata": {},
   "outputs": [],
   "source": [
    "def dependency_analysis(paragraph) -> list:\n",
    "    '''ependency_analysis(係り受け解析)の説明\n",
    "    paragraphはcabocha(CaboCha.FORMAT_LATTICE)で解析したあとのパラグラフとする\n",
    "    例 出力例(道具を用いて『知能』を研究する)\n",
    "    形態素のリスト（morphs），係り先文節インデックス番号（dst），係り元文節インデックス番号のリスト（srcs）\n",
    "    9.　　 ['道具', 'を'] 10 [5, 6, 8]\n",
    "    10. ['用い', 'て'] 12 [9]\n",
    "    11. ['『', '知能', '』', 'を'] 12 []\n",
    "    12. ['研究', 'する'] 13 [10, 11]\n",
    "    '''\n",
    "    morphs =[]\n",
    "    chunks = []\n",
    "    lines = paragraph.split('\\n')\n",
    "    for line in lines:\n",
    "        if line == '':\n",
    "             chunks.append(Chunk(morphs, dst))\n",
    "        elif line[0]=='*':\n",
    "            if len(morphs) > 0:\n",
    "                chunks.append(Chunk(morphs, dst))\n",
    "                morphs =[]\n",
    "            dst = int(line.split(' ')[2].rstrip('D'))\n",
    "        else:\n",
    "            cols = line.split('\\t')\n",
    "            cols = [cols[0]] + cols[1].split(',')\n",
    "            dct = {\n",
    "                'surface': cols[0],\n",
    "                'base': cols[7],\n",
    "                'pos': cols[1],\n",
    "                'pos1': cols[2]\n",
    "            }\n",
    "            morphs.append(Morph(dct))\n",
    "            \n",
    "    for  i, chunk in enumerate(chunks):\n",
    "        if chunk.dst != -1:\n",
    "            chunks[chunk.dst].srcs.append(i)\n",
    "            \n",
    "    return chunks\n",
    "\n",
    "\n",
    "# in_fileはテキストファイルをcabocha(CaboCha.FORMAT_LATTICE)で解析した後のテキストファイル\n",
    "with open(fname_parsed) as in_file:\n",
    "    paragraphs = in_file.read().split('EOS\\n')\n",
    "    \n",
    "paragraphs = list(filter(lambda x: x!='', paragraphs))\n",
    "\n",
    "# パラグラフごとに係り受け解析をし, リストに格納\n",
    "paragraphs = [dependency_analysis(paragraph) for paragraph in paragraphs]\n"
   ]
  },
  {
   "cell_type": "code",
   "execution_count": 4,
   "metadata": {},
   "outputs": [
    {
     "name": "stdout",
     "output_type": "stream",
     "text": [
      "人工知能 -> 語 -> 研究分野とも -> される\n",
      "じんこうちのう -> 語 -> 研究分野とも -> される\n",
      "AI -> エーアイとは -> 語 -> 研究分野とも -> される\n",
      "エーアイとは -> 語 -> 研究分野とも -> される\n",
      "計算 -> という -> 道具を -> 用いて -> 研究する -> 計算機科学 -> の -> 一分野を -> 指す -> 語 -> 研究分野とも -> される\n",
      "概念と -> 道具を -> 用いて -> 研究する -> 計算機科学 -> の -> 一分野を -> 指す -> 語 -> 研究分野とも -> される\n",
      "コンピュータ -> という -> 道具を -> 用いて -> 研究する -> 計算機科学 -> の -> 一分野を -> 指す -> 語 -> 研究分野とも -> される\n",
      "道具を -> 用いて -> 研究する -> 計算機科学 -> の -> 一分野を -> 指す -> 語 -> 研究分野とも -> される\n",
      "知能を -> 研究する -> 計算機科学 -> の -> 一分野を -> 指す -> 語 -> 研究分野とも -> される\n",
      "研究する -> 計算機科学 -> の -> 一分野を -> 指す -> 語 -> 研究分野とも -> される\n",
      "計算機科学 -> の -> 一分野を -> 指す -> 語 -> 研究分野とも -> される\n",
      "一分野を -> 指す -> 語 -> 研究分野とも -> される\n",
      "語 -> 研究分野とも -> される\n",
      "言語の -> 推論 -> 問題解決などの -> 知的行動を -> 代わって -> 行わせる -> 技術または -> 研究分野とも -> される\n",
      "理解や -> 推論 -> 問題解決などの -> 知的行動を -> 代わって -> 行わせる -> 技術または -> 研究分野とも -> される\n",
      "推論 -> 問題解決などの -> 知的行動を -> 代わって -> 行わせる -> 技術または -> 研究分野とも -> される\n",
      "問題解決などの -> 知的行動を -> 代わって -> 行わせる -> 技術または -> 研究分野とも -> される\n",
      "知的行動を -> 代わって -> 行わせる -> 技術または -> 研究分野とも -> される\n",
      "人間に -> 代わって -> 行わせる -> 技術または -> 研究分野とも -> される\n",
      "コンピューターに -> 行わせる -> 技術または -> 研究分野とも -> される\n",
      "技術または -> 研究分野とも -> される\n",
      "計算機 -> コンピュータによる -> 情報処理システムの -> 実現に関する -> 研究分野とも -> される\n",
      "コンピュータによる -> 情報処理システムの -> 実現に関する -> 研究分野とも -> される\n",
      "知的な -> 情報処理システムの -> 実現に関する -> 研究分野とも -> される\n",
      "情報処理システムの -> 実現に関する -> 研究分野とも -> される\n",
      "設計や -> 実現に関する -> 研究分野とも -> される\n",
      "実現に関する -> 研究分野とも -> される\n",
      "研究分野とも -> される\n"
     ]
    }
   ],
   "source": [
    "#　第2パラグラフで表示\n",
    "paragraph = paragraphs[1]\n",
    "\n",
    "for chunk in paragraph:\n",
    "    if '名詞' in [morph.pos for morph in chunk.morphs]:\n",
    "        head = ''.join([morph.surface for morph in chunk.morphs  if morph.pos != '記号'])\n",
    "        path = [head]\n",
    "        while chunk.dst != -1:\n",
    "            path.append(''.join(morph.surface for morph in paragraph[chunk.dst].morphs if morph.pos != '記号'))\n",
    "            chunk = paragraph[chunk.dst]\n",
    "        print(' -> '.join(path))\n"
   ]
  },
  {
   "cell_type": "code",
   "execution_count": null,
   "metadata": {},
   "outputs": [],
   "source": []
  },
  {
   "cell_type": "code",
   "execution_count": null,
   "metadata": {},
   "outputs": [],
   "source": []
  },
  {
   "cell_type": "code",
   "execution_count": null,
   "metadata": {},
   "outputs": [],
   "source": []
  }
 ],
 "metadata": {
  "kernelspec": {
   "display_name": "Python 3",
   "language": "python",
   "name": "python3"
  },
  "language_info": {
   "codemirror_mode": {
    "name": "ipython",
    "version": 3
   },
   "file_extension": ".py",
   "mimetype": "text/x-python",
   "name": "python",
   "nbconvert_exporter": "python",
   "pygments_lexer": "ipython3",
   "version": "3.7.3"
  }
 },
 "nbformat": 4,
 "nbformat_minor": 2
}
