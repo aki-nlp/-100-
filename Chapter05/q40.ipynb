{
 "cells": [
  {
   "cell_type": "code",
   "execution_count": 1,
   "metadata": {},
   "outputs": [],
   "source": [
    "import CaboCha\n",
    "\n",
    "\n",
    "fname = 'ai.ja/ai.ja.txt'\n",
    "fname_parsed = 'ai.ja/ai.ja.txt.parsed'\n",
    "cabocha = CaboCha.Parser()\n",
    "\n",
    "with open(fname) as in_file, \\\n",
    "    open(fname_parsed, 'w') as out_file:\n",
    "        for line in in_file:\n",
    "            out_file.write(\n",
    "                cabocha.parse(line).toString(CaboCha.FORMAT_LATTICE)\n",
    "            )\n",
    "            "
   ]
  },
  {
   "cell_type": "code",
   "execution_count": 2,
   "metadata": {},
   "outputs": [],
   "source": [
    "class Morph:\n",
    "    def __init__(self, surface, base, pos, pos1):\n",
    "        self.surface = surface\n",
    "        self.base = base\n",
    "        self.pos = pos\n",
    "        self.pos1 = pos1\n",
    "        \n",
    "    def __str__(self):\n",
    "        return \"surface:'{}',  base: '{}', pos: '{}',  pos1: '{}'\"\\\n",
    "            .format(self.surface, self.base, self.pos, self.pos1)\n",
    "    "
   ]
  },
  {
   "cell_type": "code",
   "execution_count": 3,
   "metadata": {},
   "outputs": [
    {
     "name": "stdout",
     "output_type": "stream",
     "text": [
      "surface:'人工',  base: '人工', pos: '名詞',  pos1: '一般'\n",
      "surface:'知能',  base: '知能', pos: '名詞',  pos1: '一般'\n",
      "surface:'人工',  base: '人工', pos: '名詞',  pos1: '一般'\n",
      "surface:'知能',  base: '知能', pos: '名詞',  pos1: '一般'\n",
      "surface:'（',  base: '（', pos: '記号',  pos1: '括弧開'\n",
      "surface:'じん',  base: 'じん', pos: '名詞',  pos1: '一般'\n",
      "surface:'こうち',  base: 'こうち', pos: '名詞',  pos1: '一般'\n",
      "surface:'のう',  base: 'のう', pos: '助詞',  pos1: '終助詞'\n",
      "surface:'、',  base: '、', pos: '記号',  pos1: '読点'\n",
      "surface:'、',  base: '、', pos: '記号',  pos1: '読点'\n",
      "surface:'AI',  base: '*', pos: '名詞',  pos1: '一般'\n",
      "surface:'〈',  base: '〈', pos: '記号',  pos1: '括弧開'\n",
      "surface:'エーアイ',  base: '*', pos: '名詞',  pos1: '固有名詞'\n",
      "surface:'〉',  base: '〉', pos: '記号',  pos1: '括弧閉'\n",
      "surface:'）',  base: '）', pos: '記号',  pos1: '括弧閉'\n",
      "surface:'と',  base: 'と', pos: '助詞',  pos1: '格助詞'\n"
     ]
    }
   ],
   "source": [
    "morphemes = []\n",
    "\n",
    "with open(fname_parsed) as in_file:\n",
    "    for line in in_file:\n",
    "        cols = line.replace('\\n', '').split('\\t')\n",
    "        if len(cols)==2:\n",
    "            col2 = cols[1].split(',')\n",
    "            morphemes.append(Morph(\n",
    "                cols[0],   # surface\n",
    "                col2[6],  # base\n",
    "                col2[0],  # pos\n",
    "                col2[1]   # pos1\n",
    "            ))\n",
    "           \n",
    "        \n",
    "k = 0\n",
    "for morpheme in morphemes:\n",
    "    if k > 15:\n",
    "        break\n",
    "    k += 1\n",
    "    print(morpheme)\n",
    "    "
   ]
  },
  {
   "cell_type": "code",
   "execution_count": null,
   "metadata": {},
   "outputs": [],
   "source": []
  },
  {
   "cell_type": "code",
   "execution_count": null,
   "metadata": {},
   "outputs": [],
   "source": []
  }
 ],
 "metadata": {
  "kernelspec": {
   "display_name": "Python 3",
   "language": "python",
   "name": "python3"
  },
  "language_info": {
   "codemirror_mode": {
    "name": "ipython",
    "version": 3
   },
   "file_extension": ".py",
   "mimetype": "text/x-python",
   "name": "python",
   "nbconvert_exporter": "python",
   "pygments_lexer": "ipython3",
   "version": "3.7.3"
  }
 },
 "nbformat": 4,
 "nbformat_minor": 2
}
