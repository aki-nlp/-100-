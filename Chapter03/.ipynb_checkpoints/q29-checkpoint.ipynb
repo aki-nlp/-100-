{
 "cells": [
  {
   "cell_type": "code",
   "execution_count": 1,
   "metadata": {},
   "outputs": [],
   "source": [
    "import gzip\n",
    "import json\n",
    "\n",
    "fname = 'jawiki-country.json.gz'\n",
    "text = ''\n",
    "\n",
    "with gzip.open(fname, 'rt') as file:\n",
    "    for line in file:\n",
    "        data = json.loads(line)\n",
    "        if data['title'] == 'イギリス':\n",
    "            text = data['text']\n"
   ]
  },
  {
   "cell_type": "code",
   "execution_count": 2,
   "metadata": {},
   "outputs": [],
   "source": [
    "import re\n",
    "import urllib.parse, requests\n",
    "import json\n",
    "\n",
    "pattern = re.compile(r'^\\{\\{基礎情報(.*?)^\\}\\}$', re.MULTILINE + re.DOTALL)\n",
    "base_info = pattern.findall(text)\n",
    "pattern = re.compile(r'^\\|(.+?)\\s*=\\s*(.+?)(?:(?=\\n\\|)|(?=\\n$))', re.MULTILINE + re.DOTALL)\n",
    "info = pattern.findall(base_info[0])\n",
    "info = dict(info)\n",
    "\n",
    "flag_name = info['国旗画像']\n",
    "# url = 'api.php?action=query&format=json&prop=imageinfo&titles=File:XXXXXX&iiprop=url'\n",
    "url = 'https://www.mediawiki.org/w/api.php?'\n",
    "params = {\n",
    "    'action': 'query',\n",
    "    'format': 'json',\n",
    "    'prop': 'imageinfo',\n",
    "    'titles': 'File:' + flag_name,\n",
    "    'iiprop': 'url'\n",
    "}\n",
    "\n",
    "r = requests.get(url=url, params=params)\n",
    "r = r.json()\n"
   ]
  },
  {
   "cell_type": "code",
   "execution_count": 3,
   "metadata": {},
   "outputs": [
    {
     "data": {
      "text/html": [
       "<img src=\"https://upload.wikimedia.org/wikipedia/commons/a/ae/Flag_of_the_United_Kingdom.svg\" width=\"400\"/>"
      ],
      "text/plain": [
       "<IPython.core.display.Image object>"
      ]
     },
     "execution_count": 3,
     "metadata": {},
     "output_type": "execute_result"
    }
   ],
   "source": [
    "from IPython.display import Image\n",
    "\n",
    "flag_url = r['query']['pages']['-1']['imageinfo'][0]['url']\n",
    "Image(url= flag_url, width=400)\n"
   ]
  },
  {
   "cell_type": "code",
   "execution_count": null,
   "metadata": {},
   "outputs": [],
   "source": []
  },
  {
   "cell_type": "code",
   "execution_count": null,
   "metadata": {},
   "outputs": [],
   "source": []
  },
  {
   "cell_type": "code",
   "execution_count": null,
   "metadata": {},
   "outputs": [],
   "source": []
  },
  {
   "cell_type": "code",
   "execution_count": null,
   "metadata": {},
   "outputs": [],
   "source": [
    "\n"
   ]
  }
 ],
 "metadata": {
  "kernelspec": {
   "display_name": "Python 3",
   "language": "python",
   "name": "python3"
  },
  "language_info": {
   "codemirror_mode": {
    "name": "ipython",
    "version": 3
   },
   "file_extension": ".py",
   "mimetype": "text/x-python",
   "name": "python",
   "nbconvert_exporter": "python",
   "pygments_lexer": "ipython3",
   "version": "3.7.3"
  }
 },
 "nbformat": 4,
 "nbformat_minor": 2
}
