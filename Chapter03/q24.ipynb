{
 "cells": [
  {
   "cell_type": "code",
   "execution_count": 1,
   "metadata": {},
   "outputs": [],
   "source": [
    "import gzip\n",
    "import json\n",
    "\n",
    "fname = 'jawiki-country.json.gz'\n",
    "text = ''\n",
    "\n",
    "with gzip.open(fname, 'rt') as file:\n",
    "    for line in file:\n",
    "        data = json.loads(line)\n",
    "        if data['title'] == 'イギリス':\n",
    "            text = data['text']"
   ]
  },
  {
   "cell_type": "code",
   "execution_count": 2,
   "metadata": {},
   "outputs": [
    {
     "name": "stdout",
     "output_type": "stream",
     "text": [
      "Royal Coat of Arms of the United Kingdom.svg\n",
      "United States Navy Band - God Save the Queen.ogg\n",
      "Descriptio Prime Tabulae Europae.jpg\n",
      "Lenepveu, Jeanne d'Arc au siège d'Orléans.jpg\n",
      "London.bankofengland.arp.jpg\n",
      "Battle of Waterloo 1815.PNG\n",
      "Uk topo en.jpg\n",
      "BenNevis2005.jpg\n",
      "Population density UK 2011 census.png\n",
      "2019 Greenwich Peninsula & Canary Wharf.jpg\n",
      "Leeds CBD at night.jpg\n",
      "Palace of Westminster, London - Feb 2007.jpg\n",
      "Scotland Parliament Holyrood.jpg\n",
      "Donald Trump and Theresa May (33998675310) (cropped).jpg\n",
      "Soldiers Trooping the Colour, 16th June 2007.jpg\n",
      "City of London skyline from London City Hall - Oct 2008.jpg\n",
      "Oil platform in the North SeaPros.jpg\n",
      "Eurostar at St Pancras Jan 2008.jpg\n",
      "Heathrow Terminal 5C Iwelumo-1.jpg\n",
      "UKpop.svg\n",
      "Anglospeak.svg\n",
      "Royal Aberdeen Children's Hospital.jpg\n",
      "CHANDOS3.jpg\n",
      "The Fabs.JPG\n",
      "Wembley Stadium, illuminated.jpg\n"
     ]
    }
   ],
   "source": [
    "import re\n",
    "pattern = '\\[\\[ファイル:(.*?)(?:\\|.*)?\\]\\]'\n",
    "categories = re.findall(pattern, text)\n",
    "for category in categories:\n",
    "    print(category)"
   ]
  },
  {
   "cell_type": "code",
   "execution_count": null,
   "metadata": {},
   "outputs": [],
   "source": []
  },
  {
   "cell_type": "code",
   "execution_count": null,
   "metadata": {},
   "outputs": [],
   "source": []
  }
 ],
 "metadata": {
  "kernelspec": {
   "display_name": "Python 3",
   "language": "python",
   "name": "python3"
  },
  "language_info": {
   "codemirror_mode": {
    "name": "ipython",
    "version": 3
   },
   "file_extension": ".py",
   "mimetype": "text/x-python",
   "name": "python",
   "nbconvert_exporter": "python",
   "pygments_lexer": "ipython3",
   "version": "3.7.3"
  }
 },
 "nbformat": 4,
 "nbformat_minor": 2
}
