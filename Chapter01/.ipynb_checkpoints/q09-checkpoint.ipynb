{
 "cells": [
  {
   "cell_type": "code",
   "execution_count": 1,
   "metadata": {},
   "outputs": [
    {
     "name": "stdout",
     "output_type": "stream",
     "text": [
      "I c’olnudt beievle that I culod atclulay utdrasennd what I was radeing : the pemnnaehol pwoer of the human mind .\n"
     ]
    }
   ],
   "source": [
    "import random\n",
    "\n",
    "\n",
    "def typoglycemia(sentense):\n",
    "    result = []\n",
    "    for word in sentense.split(' '):\n",
    "        if len(word) > 4:\n",
    "            mid = list(word[1:-1])\n",
    "            random.shuffle(mid)\n",
    "            result.append(word[0] + ''.join(mid) + word[-1])       \n",
    "        else:\n",
    "            result.append(word)\n",
    "    return ' '.join(result)\n",
    "    \n",
    "    \n",
    "sentense = 'I couldn’t believe that I could actually understand '\\\n",
    "            + 'what I was reading : '\\\n",
    "            + 'the phenomenal power of the human mind .'\n",
    "print(typoglycemia(sentense))"
   ]
  },
  {
   "cell_type": "code",
   "execution_count": null,
   "metadata": {},
   "outputs": [],
   "source": []
  }
 ],
 "metadata": {
  "kernelspec": {
   "display_name": "Python 3",
   "language": "python",
   "name": "python3"
  },
  "language_info": {
   "codemirror_mode": {
    "name": "ipython",
    "version": 3
   },
   "file_extension": ".py",
   "mimetype": "text/x-python",
   "name": "python",
   "nbconvert_exporter": "python",
   "pygments_lexer": "ipython3",
   "version": "3.7.3"
  }
 },
 "nbformat": 4,
 "nbformat_minor": 2
}
