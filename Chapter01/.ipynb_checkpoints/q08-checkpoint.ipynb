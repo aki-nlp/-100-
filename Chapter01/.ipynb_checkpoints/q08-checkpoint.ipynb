{
 "cells": [
  {
   "cell_type": "code",
   "execution_count": 1,
   "metadata": {},
   "outputs": [
    {
     "name": "stdout",
     "output_type": "stream",
     "text": [
      "kzhhdliw\n",
      "password\n"
     ]
    }
   ],
   "source": [
    "def cipher(message):\n",
    "    result = ''\n",
    "    for c in message:\n",
    "        result += chr(219 - ord(c))\n",
    "    return result\n",
    "    \n",
    "    \n",
    "message = 'password'\n",
    "\n",
    "# 暗号化\n",
    "code = cipher(message)\n",
    "print(code)\n",
    "\n",
    "# 復号化\n",
    "decrypted_code = cipher(code)\n",
    "print(decrypted_code)"
   ]
  },
  {
   "cell_type": "code",
   "execution_count": null,
   "metadata": {},
   "outputs": [],
   "source": []
  }
 ],
 "metadata": {
  "kernelspec": {
   "display_name": "Python 3",
   "language": "python",
   "name": "python3"
  },
  "language_info": {
   "codemirror_mode": {
    "name": "ipython",
    "version": 3
   },
   "file_extension": ".py",
   "mimetype": "text/x-python",
   "name": "python",
   "nbconvert_exporter": "python",
   "pygments_lexer": "ipython3",
   "version": "3.7.3"
  }
 },
 "nbformat": 4,
 "nbformat_minor": 2
}
