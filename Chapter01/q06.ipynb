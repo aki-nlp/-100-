{
 "cells": [
  {
   "cell_type": "code",
   "execution_count": 1,
   "metadata": {},
   "outputs": [
    {
     "name": "stdout",
     "output_type": "stream",
     "text": [
      "和集合: {'is', 'ap', 'gr', 'se', 'di', 'pa', 'ar', 'ra', 'ag', 'ph', 'ad'}\n",
      "積集合: {'pa', 'ra', 'ar', 'ap'}\n",
      "差集合: {'is', 'ad', 'se', 'di'}\n",
      "Xに「se」が含まれる: True\n",
      "Yに「se」が含まれる: False\n"
     ]
    }
   ],
   "source": [
    "def n_gram(sentence, n):\n",
    "    lst = []\n",
    "    for i in range(len(sentence) - 1):\n",
    "        lst.append(sentence[i:i + n])\n",
    "    return lst\n",
    "\n",
    "\n",
    "s1 = 'paraparaparadise'\n",
    "s2 = 'paragraph'\n",
    "X = set(n_gram(s1, 2))\n",
    "Y = set(n_gram(s2, 2))\n",
    "\n",
    "print('和集合: ', end='')\n",
    "print(X | Y)\n",
    "\n",
    "print('積集合: ', end='')\n",
    "print(X & Y)\n",
    "\n",
    "print('差集合: ', end='')\n",
    "print(X - Y)\n",
    "\n",
    "print('Xに「se」が含まれる:', 'se' in X)\n",
    "print('Yに「se」が含まれる:', 'se' in Y)\n"
   ]
  },
  {
   "cell_type": "code",
   "execution_count": null,
   "metadata": {},
   "outputs": [],
   "source": []
  }
 ],
 "metadata": {
  "kernelspec": {
   "display_name": "Python 3",
   "language": "python",
   "name": "python3"
  },
  "language_info": {
   "codemirror_mode": {
    "name": "ipython",
    "version": 3
   },
   "file_extension": ".py",
   "mimetype": "text/x-python",
   "name": "python",
   "nbconvert_exporter": "python",
   "pygments_lexer": "ipython3",
   "version": "3.7.3"
  }
 },
 "nbformat": 4,
 "nbformat_minor": 2
}
