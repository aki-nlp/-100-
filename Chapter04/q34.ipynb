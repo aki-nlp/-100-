{
 "cells": [
  {
   "cell_type": "code",
   "execution_count": 1,
   "metadata": {},
   "outputs": [],
   "source": [
    "def get_morphemes(f_name='neko.txt.mecab'):\n",
    "    morphemes = []\n",
    "    \n",
    "    with open(f_name) as f:\n",
    "        for line in f.readlines():\n",
    "            line = line.replace('\\n', '')\n",
    "\n",
    "            cols = line.split('\\t')\n",
    "            if len(cols) < 2:\n",
    "                continue\n",
    "\n",
    "            surface = cols[0]\n",
    "            cols = cols[1]\n",
    "            cols = cols.split(',')\n",
    "\n",
    "            morpheme = {\n",
    "                'surface': surface,\n",
    "                'base': cols[6],\n",
    "                'pos': cols[0],\n",
    "                'pos1': cols[1] \n",
    "            }\n",
    "            morphemes.append(morpheme)\n",
    "            \n",
    "    return morphemes"
   ]
  },
  {
   "cell_type": "code",
   "execution_count": 2,
   "metadata": {},
   "outputs": [
    {
     "name": "stdout",
     "output_type": "stream",
     "text": [
      "['一', '吾輩', '猫', '名前', 'どこ', '見当', '何', '所', 'ニャーニャー', 'いた事', '記憶', '吾輩', 'ここ', '人間', 'もの', 'あと', 'それ', '書生', '人間中', '一番獰悪', '種族', 'そう', '書生', 'の', '我々', '話', '当時', '何', '考', '彼', '掌', 'スー', '時', '感じ', '掌', '上', '書生', '顔', 'の', '人間', 'もの', '始', '時妙', 'もの', '感じ', '今', '一毛', '装飾', 'はず', '顔']\n"
     ]
    }
   ],
   "source": [
    "# 名詞の連接を最長一致で抽出 (1単語でも出力)\n",
    "morphemes = get_morphemes()\n",
    "nouns_list = []\n",
    "nouns = ''\n",
    "for i in range(len(morphemes)):\n",
    "    if morphemes[i]['pos'] == '名詞':\n",
    "        nouns += morphemes[i]['surface']\n",
    "    else:\n",
    "        if nouns != '':\n",
    "            nouns_list.append(nouns)\n",
    "            nouns = ''\n",
    "print(nouns_list[0:50])"
   ]
  },
  {
   "cell_type": "code",
   "execution_count": 3,
   "metadata": {},
   "outputs": [
    {
     "name": "stdout",
     "output_type": "stream",
     "text": [
      "['人間中', '一番獰悪', '時妙', '一毛', 'その後猫', '一度', 'ぷうぷうと煙', '邸内', '三毛', '書生以外', '四五遍', 'この間おさん', '三馬', '御台所', 'まま奥', '住家', '終日書斎', '勉強家', '勉強家', '勤勉家', '二三ページ', '主人以外', '限り吾輩', '朝主人', '一番心持', '二人', '一つ床', '一人', '最後大変', '——猫', '神経胃弱性', '物指', '尻ぺたをひどく', '言語同断', '家内総がかり', '筋向', '白君', '度毎', '白君', '先日玉', '四疋', '三日目', '四疋', '白君', '我等猫族', '家族的生活', '三毛君', '所有権', '我々同族間', '目刺']\n"
     ]
    }
   ],
   "source": [
    "# 名詞の連接を最長一致で抽出 (2単語以上の単語のみ出力)\n",
    "morphemes = get_morphemes()\n",
    "nouns_list = []\n",
    "nouns = ''\n",
    "count = 0\n",
    "for i in range(len(morphemes)):\n",
    "    if morphemes[i]['pos'] == '名詞':\n",
    "        nouns += morphemes[i]['surface']\n",
    "        count += 1\n",
    "    else:\n",
    "        if nouns != '' and count > 1:\n",
    "            nouns_list.append(nouns)\n",
    "        nouns = ''\n",
    "        count = 0\n",
    "        \n",
    "print(nouns_list[0:50])"
   ]
  },
  {
   "cell_type": "code",
   "execution_count": null,
   "metadata": {},
   "outputs": [],
   "source": []
  }
 ],
 "metadata": {
  "kernelspec": {
   "display_name": "Python 3",
   "language": "python",
   "name": "python3"
  },
  "language_info": {
   "codemirror_mode": {
    "name": "ipython",
    "version": 3
   },
   "file_extension": ".py",
   "mimetype": "text/x-python",
   "name": "python",
   "nbconvert_exporter": "python",
   "pygments_lexer": "ipython3",
   "version": "3.7.3"
  }
 },
 "nbformat": 4,
 "nbformat_minor": 2
}
