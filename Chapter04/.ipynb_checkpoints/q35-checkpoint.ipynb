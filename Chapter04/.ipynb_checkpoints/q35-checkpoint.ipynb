{
 "cells": [
  {
   "cell_type": "code",
   "execution_count": 2,
   "metadata": {},
   "outputs": [],
   "source": [
    "def get_morphemes(f_name='neko.txt.mecab'):\n",
    "    morphemes = []\n",
    "    \n",
    "    with open(f_name) as f:\n",
    "        for line in f.readlines():\n",
    "            line = line.replace('\\n', '')\n",
    "\n",
    "            cols = line.split('\\t')\n",
    "            if len(cols) < 2:\n",
    "                continue\n",
    "\n",
    "            surface = cols[0]\n",
    "            cols = cols[1]\n",
    "            cols = cols.split(',')\n",
    "\n",
    "            morpheme = {\n",
    "                'surface': surface,\n",
    "                'base': cols[6],\n",
    "                'pos': cols[0],\n",
    "                'pos1': cols[1] \n",
    "            }\n",
    "            morphemes.append(morpheme)\n",
    "            \n",
    "    return morphemes"
   ]
  },
  {
   "cell_type": "code",
   "execution_count": 11,
   "metadata": {},
   "outputs": [
    {
     "name": "stdout",
     "output_type": "stream",
     "text": [
      "の 9194\n",
      "。 7486\n",
      "て 6853\n",
      "、 6772\n",
      "は 6422\n",
      "に 6268\n",
      "を 6071\n",
      "だ 5978\n",
      "と 5515\n",
      "が 5339\n"
     ]
    }
   ],
   "source": [
    "import collections\n",
    "\n",
    "morphemes = get_morphemes()\n",
    "base_list = [morpheme['base'] for morpheme in morphemes]\n",
    "c = collections.Counter(base_list)\n",
    "for i, (k, v) in enumerate(c.most_common()):\n",
    "    # 上位10個を出力\n",
    "    if i >=10:\n",
    "        break\n",
    "    print(k, v)"
   ]
  },
  {
   "cell_type": "code",
   "execution_count": null,
   "metadata": {},
   "outputs": [],
   "source": []
  },
  {
   "cell_type": "code",
   "execution_count": null,
   "metadata": {},
   "outputs": [],
   "source": []
  }
 ],
 "metadata": {
  "kernelspec": {
   "display_name": "Python 3",
   "language": "python",
   "name": "python3"
  },
  "language_info": {
   "codemirror_mode": {
    "name": "ipython",
    "version": 3
   },
   "file_extension": ".py",
   "mimetype": "text/x-python",
   "name": "python",
   "nbconvert_exporter": "python",
   "pygments_lexer": "ipython3",
   "version": "3.7.3"
  }
 },
 "nbformat": 4,
 "nbformat_minor": 2
}
