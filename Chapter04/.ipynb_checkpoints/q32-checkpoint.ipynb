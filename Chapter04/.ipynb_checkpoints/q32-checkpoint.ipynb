{
 "cells": [
  {
   "cell_type": "code",
   "execution_count": 1,
   "metadata": {},
   "outputs": [],
   "source": [
    "def get_morphemes(f_name='neko.txt.mecab'):\n",
    "    morphemes = []\n",
    "    \n",
    "    with open(f_name) as f:\n",
    "        for line in f.readlines():\n",
    "            line = line.replace('\\n', '')\n",
    "\n",
    "            cols = line.split('\\t')\n",
    "            if len(cols) < 2:\n",
    "                continue\n",
    "\n",
    "            surface = cols[0]\n",
    "            cols = cols[1]\n",
    "            cols = cols.split(',')\n",
    "\n",
    "            morpheme = {\n",
    "                'surface': surface,\n",
    "                'base': cols[6],\n",
    "                'pos': cols[0],\n",
    "                'pos1': cols[1] \n",
    "            }\n",
    "            morphemes.append(morpheme)\n",
    "            \n",
    "    return morphemes"
   ]
  },
  {
   "cell_type": "code",
   "execution_count": 2,
   "metadata": {},
   "outputs": [
    {
     "name": "stdout",
     "output_type": "stream",
     "text": [
      "苦しまぎれ,不,前歯,牢乎,一貫,雪江,動かす,有用,引き起す,結城紬,功徳,御飯,覚える,馴れる,答,性質,運び,ボー,ころがる,鋸,新説,蓄える,こっそり,袖の下,久留米がすり,ぽか,画才,大変,帰す,棒,反射,揮う,見透かす,ゴールド,縮める,にこにこ,日雇,一世,自乗,ぜん,恨事,何より,垣根越し,実に,著い,克己,任意,鳩,ぴかぴか,ぶらぶら,虚言,据わる,江,期日,暗合,同君,かわす,忌む,灰汁,とく,止める,潜る,きの,美妙,達する,釈教,廬,あきらめる,や,祝賀,本題,開催,四つ,天子,仰山,笹,跨ぐ,取り殺す,世話,翌朝,小脇,供え,鵜,切り,づける,鋳る,入会,朋友,深緑,内心,仁王,かざる,散文,誓う,加担,生き延びる,願,方,ちょうど,しも,...\n"
     ]
    }
   ],
   "source": [
    "morphemes = get_morphemes()\n",
    "surface = set()\n",
    "for morpheme in morphemes:\n",
    "    surface.add(morpheme['base'])\n",
    "i = 0\n",
    "for s in surface:\n",
    "    i = i + 1\n",
    "    if i > 100:\n",
    "        print('...')\n",
    "        break\n",
    "    print(s, end=',')"
   ]
  },
  {
   "cell_type": "code",
   "execution_count": null,
   "metadata": {},
   "outputs": [],
   "source": []
  }
 ],
 "metadata": {
  "kernelspec": {
   "display_name": "Python 3",
   "language": "python",
   "name": "python3"
  },
  "language_info": {
   "codemirror_mode": {
    "name": "ipython",
    "version": 3
   },
   "file_extension": ".py",
   "mimetype": "text/x-python",
   "name": "python",
   "nbconvert_exporter": "python",
   "pygments_lexer": "ipython3",
   "version": "3.7.3"
  }
 },
 "nbformat": 4,
 "nbformat_minor": 2
}
