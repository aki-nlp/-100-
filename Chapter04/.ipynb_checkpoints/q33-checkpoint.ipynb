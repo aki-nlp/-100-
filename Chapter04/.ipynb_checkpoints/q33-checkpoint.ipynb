{
 "cells": [
  {
   "cell_type": "code",
   "execution_count": 1,
   "metadata": {},
   "outputs": [],
   "source": [
    "def get_morphemes(f_name='neko.txt.mecab'):\n",
    "    morphemes = []\n",
    "    \n",
    "    with open(f_name) as f:\n",
    "        for line in f.readlines():\n",
    "            line = line.replace('\\n', '')\n",
    "\n",
    "            cols = line.split('\\t')\n",
    "            if len(cols) < 2:\n",
    "                continue\n",
    "\n",
    "            surface = cols[0]\n",
    "            cols = cols[1]\n",
    "            cols = cols.split(',')\n",
    "\n",
    "            morpheme = {\n",
    "                'surface': surface,\n",
    "                'base': cols[6],\n",
    "                'pos': cols[0],\n",
    "                'pos1': cols[1] \n",
    "            }\n",
    "            morphemes.append(morpheme)\n",
    "            \n",
    "    return morphemes"
   ]
  },
  {
   "cell_type": "code",
   "execution_count": 2,
   "metadata": {},
   "outputs": [
    {
     "name": "stdout",
     "output_type": "stream",
     "text": [
      "['彼の掌', '掌の上', '書生の顔', 'はずの顔', '顔の真中', '穴の中', '書生の掌', '掌の裏', '何の事', '肝心の母親', '藁の上', '笹原の中', '池の前', '池の上', '一樹の蔭', '垣根の穴', '隣家の三', '時の通路', '一刻の猶予', '家の内']\n"
     ]
    }
   ],
   "source": [
    "morphemes = get_morphemes()\n",
    "a_of_b = []\n",
    "for i in range(len(morphemes)):\n",
    "    if morphemes[i]['surface'] == 'の'\\\n",
    "            and morphemes[i - 1]['pos'] == '名詞'\\\n",
    "            and morphemes[i + 1]['pos'] == '名詞':\n",
    "        a_of_b.append(morphemes[i - 1]['surface'] + 'の' + morphemes[i + 1]['surface'])\n",
    "print(a_of_b[0:20])"
   ]
  },
  {
   "cell_type": "code",
   "execution_count": null,
   "metadata": {},
   "outputs": [],
   "source": []
  }
 ],
 "metadata": {
  "kernelspec": {
   "display_name": "Python 3",
   "language": "python",
   "name": "python3"
  },
  "language_info": {
   "codemirror_mode": {
    "name": "ipython",
    "version": 3
   },
   "file_extension": ".py",
   "mimetype": "text/x-python",
   "name": "python",
   "nbconvert_exporter": "python",
   "pygments_lexer": "ipython3",
   "version": "3.7.3"
  }
 },
 "nbformat": 4,
 "nbformat_minor": 2
}
