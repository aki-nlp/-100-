{
 "cells": [
  {
   "cell_type": "code",
   "execution_count": 1,
   "metadata": {},
   "outputs": [],
   "source": [
    "import numpy as np\n",
    "import matplotlib.pyplot as plt\n",
    "import japanize_matplotlib\n",
    "import seaborn as sns; sns.set(font=\"IPAexGothic\")\n",
    "%config InlineBackend.figure_format = 'retina'\n",
    "\n",
    "import MeCab\n",
    "import collections\n",
    "\n",
    "\n",
    "# 猫を含む文を抽出\n",
    "f_name = 'neko.txt'\n",
    "neko_sentence = []\n",
    "with open(f_name) as f:\n",
    "    for line in f.readlines():\n",
    "        if '猫' in line:\n",
    "            neko_sentence.append(line.replace('\\n', ''))\n",
    "neko_sentence = ''.join(neko_sentence)\n",
    "\n",
    "#  MeCabで解析\n",
    "mecab = MeCab.Tagger()\n",
    "text_parsed = mecab.parse(neko_sentence)\n",
    "\n",
    "#  解析結果を整理\n",
    "morphemes = []\n",
    "for line in text_parsed.split('\\n'):\n",
    "    cols = line.split('\\t')\n",
    "    if len(cols) < 2:\n",
    "        continue\n",
    "    surface = cols[0]\n",
    "    cols = cols[1]\n",
    "    cols = cols.split(',')\n",
    "    morpheme = {\n",
    "        'surface': surface,\n",
    "        'base': cols[6],\n",
    "        'pos': cols[0],\n",
    "        'pos1': cols[1] \n",
    "    }\n",
    "    morphemes.append(morpheme)\n",
    "\n",
    "# 名詞のみ抽出\n",
    "base_list = [morpheme['base'] for morpheme in morphemes if morpheme['pos']=='名詞']\n",
    "\n",
    "# 単語出現回数を取得\n",
    "c = collections.Counter(base_list)\n",
    "# 「猫」, 「 *」を除外したTop10を取得\n",
    "top10 = c.most_common()[2:12]\n"
   ]
  },
  {
   "cell_type": "code",
   "execution_count": 2,
   "metadata": {},
   "outputs": [
    {
     "data": {
      "text/plain": [
       "<BarContainer object of 10 artists>"
      ]
     },
     "execution_count": 2,
     "metadata": {},
     "output_type": "execute_result"
    },
    {
     "data": {
      "image/png": "[encoded data removed]",
      "text/plain": [
       "<Figure size 432x288 with 1 Axes>"
      ]
     },
     "metadata": {
      "image/png": {
       "height": 254,
       "width": 375
      },
      "needs_background": "light"
     },
     "output_type": "display_data"
    }
   ],
   "source": [
    "x = np.arange(len(top10)) \n",
    "y = np.array([v for k, v in top10])\n",
    "label = np.array([k for k, v in top10])\n",
    "plt.xticks(x, label)\n",
    "plt.bar(x, y)"
   ]
  },
  {
   "cell_type": "code",
   "execution_count": null,
   "metadata": {},
   "outputs": [],
   "source": []
  },
  {
   "cell_type": "code",
   "execution_count": null,
   "metadata": {},
   "outputs": [],
   "source": []
  },
  {
   "cell_type": "code",
   "execution_count": null,
   "metadata": {},
   "outputs": [],
   "source": []
  }
 ],
 "metadata": {
  "kernelspec": {
   "display_name": "Python 3",
   "language": "python",
   "name": "python3"
  },
  "language_info": {
   "codemirror_mode": {
    "name": "ipython",
    "version": 3
   },
   "file_extension": ".py",
   "mimetype": "text/x-python",
   "name": "python",
   "nbconvert_exporter": "python",
   "pygments_lexer": "ipython3",
   "version": "3.7.3"
  }
 },
 "nbformat": 4,
 "nbformat_minor": 2
}
