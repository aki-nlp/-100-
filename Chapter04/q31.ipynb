{
 "cells": [
  {
   "cell_type": "code",
   "execution_count": 1,
   "metadata": {},
   "outputs": [],
   "source": [
    "def get_morphemes(f_name='neko.txt.mecab'):\n",
    "    morphemes = []\n",
    "    \n",
    "    with open(f_name) as f:\n",
    "        for line in f.readlines():\n",
    "            line = line.replace('\\n', '')\n",
    "\n",
    "            cols = line.split('\\t')\n",
    "            if len(cols) < 2:\n",
    "                continue\n",
    "\n",
    "            surface = cols[0]\n",
    "            cols = cols[1]\n",
    "            cols = cols.split(',')\n",
    "\n",
    "            morpheme = {\n",
    "                'surface': surface,\n",
    "                'base': cols[6],\n",
    "                'pos': cols[0],\n",
    "                'pos1': cols[1] \n",
    "            }\n",
    "            morphemes.append(morpheme)\n",
    "            \n",
    "    return morphemes"
   ]
  },
  {
   "cell_type": "code",
   "execution_count": 2,
   "metadata": {},
   "outputs": [
    {
     "name": "stdout",
     "output_type": "stream",
     "text": [
      "大和,担ぎ,ゃつ,提供,忘却,載せる,きたない,呼吸,大磯,日影,下っ,貰っ,突起,一縷,懸賞,豚,膨れ,伝聞,茂っ,太刀,逸楽,そっち,込める,這入る,飛花落葉,さす,において,語り,」,臆病,蒲鉾,考え込ん,丸い,目白,向わ,麦飯,飛,逸話,バリー・ペーン,1,ユーゴー,色気,一度に,保つ,両,瓶,紛々,包ん,やり方,癪,窟邸,拝啓,あさって,浪,科学,断,在来,猫,反し,互,つとめ,枕頭,はね,わく,暗誦,奥歯,改めれ,手始め,がる,驚,有望,襖,露西亜,堤防,問い返さ,囓,協会,ぎりなの,竹槍,嵩,毒々しい,見合せよ,木目,炎熱,行き,汚,覚まし,だかん,堅い,命令,病家,五,技術,釣れ,乗る,ぶるぶる,疲れ,戸口,こたえる,星月夜,...\n"
     ]
    }
   ],
   "source": [
    "morphemes = get_morphemes()\n",
    "surface = set()\n",
    "for morpheme in morphemes:\n",
    "    surface.add(morpheme['surface'])\n",
    "i = 0\n",
    "for s in surface:\n",
    "    i = i + 1\n",
    "    if i > 100:\n",
    "        print('...')\n",
    "        break\n",
    "    print(s, end=',')"
   ]
  },
  {
   "cell_type": "code",
   "execution_count": null,
   "metadata": {},
   "outputs": [],
   "source": []
  }
 ],
 "metadata": {
  "kernelspec": {
   "display_name": "Python 3",
   "language": "python",
   "name": "python3"
  },
  "language_info": {
   "codemirror_mode": {
    "name": "ipython",
    "version": 3
   },
   "file_extension": ".py",
   "mimetype": "text/x-python",
   "name": "python",
   "nbconvert_exporter": "python",
   "pygments_lexer": "ipython3",
   "version": "3.7.3"
  }
 },
 "nbformat": 4,
 "nbformat_minor": 2
}
