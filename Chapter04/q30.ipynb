{
 "cells": [
  {
   "cell_type": "markdown",
   "metadata": {},
   "source": [
    "### 下準備"
   ]
  },
  {
   "cell_type": "code",
   "execution_count": 1,
   "metadata": {},
   "outputs": [],
   "source": [
    "import MeCab\n",
    "\n",
    "in_file = 'neko.txt'\n",
    "out_file = 'neko.txt.mecab'\n",
    "with open(in_file) as f1, \\\n",
    "        open(out_file, 'w') as f2:\n",
    "    text = f1.read()\n",
    "    mecab = MeCab.Tagger()\n",
    "    text_parsed = mecab.parse(text)\n",
    "    f2.write(text_parsed)"
   ]
  },
  {
   "cell_type": "markdown",
   "metadata": {},
   "source": [
    "### q30"
   ]
  },
  {
   "cell_type": "code",
   "execution_count": 2,
   "metadata": {},
   "outputs": [
    {
     "name": "stdout",
     "output_type": "stream",
     "text": [
      "{'surface': '一', 'base': '一', 'pos': '名詞', 'pos1': '数'}\n",
      "{'surface': '\\u3000', 'base': '\\u3000', 'pos': '記号', 'pos1': '空白'}\n",
      "{'surface': '吾輩', 'base': '吾輩', 'pos': '名詞', 'pos1': '代名詞'}\n",
      "{'surface': 'は', 'base': 'は', 'pos': '助詞', 'pos1': '係助詞'}\n",
      "{'surface': '猫', 'base': '猫', 'pos': '名詞', 'pos1': '一般'}\n",
      "{'surface': 'で', 'base': 'だ', 'pos': '助動詞', 'pos1': '*'}\n",
      "{'surface': 'ある', 'base': 'ある', 'pos': '助動詞', 'pos1': '*'}\n"
     ]
    }
   ],
   "source": [
    "f_name = 'neko.txt.mecab'\n",
    "with open(f_name) as f:\n",
    "    morphemes = []\n",
    "    for line in f.readlines():\n",
    "        line = line.replace('\\n', '')\n",
    "        \n",
    "        cols = line.split('\\t')\n",
    "        if len(cols) < 2:\n",
    "            continue\n",
    "                \n",
    "        surface = cols[0]\n",
    "        cols = cols[1]\n",
    "        cols = cols.split(',')\n",
    "        \n",
    "        morpheme = {\n",
    "            'surface': surface,\n",
    "            'base': cols[6],\n",
    "            'pos': cols[0],\n",
    "            'pos1': cols[1] \n",
    "        }\n",
    "        morphemes.append(morpheme)\n",
    "        \n",
    "    i = 0\n",
    "    for morpheme in morphemes:\n",
    "        if i>6:\n",
    "            break\n",
    "        i = i+1\n",
    "        print(morpheme)"
   ]
  },
  {
   "cell_type": "code",
   "execution_count": 1,
   "metadata": {},
   "outputs": [],
   "source": [
    "import MeCab\n",
    "mecab = MeCab.Tagger()\n",
    "text_parsed = mecab.parse('私の名前は太郎です')\n",
    "print(te)"
   ]
  },
  {
   "cell_type": "code",
   "execution_count": null,
   "metadata": {},
   "outputs": [],
   "source": []
  }
 ],
 "metadata": {
  "kernelspec": {
   "display_name": "Python 3",
   "language": "python",
   "name": "python3"
  },
  "language_info": {
   "codemirror_mode": {
    "name": "ipython",
    "version": 3
   },
   "file_extension": ".py",
   "mimetype": "text/x-python",
   "name": "python",
   "nbconvert_exporter": "python",
   "pygments_lexer": "ipython3",
   "version": "3.7.3"
  }
 },
 "nbformat": 4,
 "nbformat_minor": 2
}
