{
 "cells": [
  {
   "cell_type": "code",
   "execution_count": 1,
   "metadata": {},
   "outputs": [
    {
     "name": "stdout",
     "output_type": "stream",
     "text": [
      "5\n"
     ]
    }
   ],
   "source": [
    "import numpy as np\n",
    "\n",
    "n = int(input())\n",
    "\n",
    "with open('popular-names.txt') as f:\n",
    "    lines = f.readlines()\n",
    "    N = len(lines)\n",
    "    n = min(n, 5)\n",
    "    lst = [i for i in range(N)]\n",
    "    lst = list(np.array_split(lst, n))\n",
    "    for i in range(n):\n",
    "        with open('split_popular-names_{}.txt'.format(i + 1), 'w') as out:\n",
    "            for line in lines[lst[i][0]:lst[i][-1] + 1]:\n",
    "                out.write(line)"
   ]
  },
  {
   "cell_type": "code",
   "execution_count": null,
   "metadata": {},
   "outputs": [],
   "source": []
  }
 ],
 "metadata": {
  "kernelspec": {
   "display_name": "Python 3",
   "language": "python",
   "name": "python3"
  },
  "language_info": {
   "codemirror_mode": {
    "name": "ipython",
    "version": 3
   },
   "file_extension": ".py",
   "mimetype": "text/x-python",
   "name": "python",
   "nbconvert_exporter": "python",
   "pygments_lexer": "ipython3",
   "version": "3.7.3"
  }
 },
 "nbformat": 4,
 "nbformat_minor": 2
}
