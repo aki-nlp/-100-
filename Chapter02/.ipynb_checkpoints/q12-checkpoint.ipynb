{
 "cells": [
  {
   "cell_type": "code",
   "execution_count": 1,
   "metadata": {},
   "outputs": [],
   "source": [
    "with open('popular-names.txt') as f,\\\n",
    "    open('col1.txt', 'w') as out1,\\\n",
    "    open('col2.txt', 'w') as out2:\n",
    "    for line in  f.readlines():\n",
    "        name, sex, num, year = line.split('\\t')\n",
    "        out1.write(name + '\\n')\n",
    "        out2.write(sex + '\\n')\n"
   ]
  },
  {
   "cell_type": "code",
   "execution_count": 2,
   "metadata": {},
   "outputs": [
    {
     "name": "stdout",
     "output_type": "stream",
     "text": [
      "Mary\tF\t7065\t1880\r\n",
      "Anna\tF\t2604\t1880\r\n",
      "Emma\tF\t2003\t1880\r\n",
      "Elizabeth\tF\t1939\t1880\r\n"
     ]
    }
   ],
   "source": [
    "!head -4 popular-names.txt"
   ]
  },
  {
   "cell_type": "code",
   "execution_count": 3,
   "metadata": {},
   "outputs": [
    {
     "name": "stdout",
     "output_type": "stream",
     "text": [
      "Mary\r\n",
      "Anna\r\n",
      "Emma\r\n",
      "Elizabeth\r\n"
     ]
    }
   ],
   "source": [
    "!head -4 col1.txt"
   ]
  },
  {
   "cell_type": "code",
   "execution_count": 4,
   "metadata": {},
   "outputs": [
    {
     "name": "stdout",
     "output_type": "stream",
     "text": [
      "F\r\n",
      "F\r\n",
      "F\r\n",
      "F\r\n"
     ]
    }
   ],
   "source": [
    "!head -4 col2.txt"
   ]
  },
  {
   "cell_type": "code",
   "execution_count": null,
   "metadata": {},
   "outputs": [],
   "source": []
  }
 ],
 "metadata": {
  "kernelspec": {
   "display_name": "Python 3",
   "language": "python",
   "name": "python3"
  },
  "language_info": {
   "codemirror_mode": {
    "name": "ipython",
    "version": 3
   },
   "file_extension": ".py",
   "mimetype": "text/x-python",
   "name": "python",
   "nbconvert_exporter": "python",
   "pygments_lexer": "ipython3",
   "version": "3.7.3"
  }
 },
 "nbformat": 4,
 "nbformat_minor": 2
}
