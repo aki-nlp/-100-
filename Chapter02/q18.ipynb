{
 "cells": [
  {
   "cell_type": "code",
   "execution_count": 1,
   "metadata": {},
   "outputs": [
    {
     "name": "stdout",
     "output_type": "stream",
     "text": [
      "Linda\tF\t99689\t1947\n",
      "James\tM\t9951\t1911\n",
      "Mildred\tF\t9921\t1913\n",
      "Mary\tF\t9889\t1886\n",
      "Mary\tF\t9888\t1887\n"
     ]
    }
   ],
   "source": [
    "with open('popular-names.txt') as f:\n",
    "    lines = f.readlines()\n",
    "    lines_list = []\n",
    "    for line in lines:\n",
    "        line = line.strip().split('\\t')\n",
    "        lines_list.append(line)\n",
    "    lines_list = sorted(lines_list, key=lambda x:x[2], reverse=True)\n",
    "    for i in lines_list[0:5]:\n",
    "        print('\\t'.join(i))"
   ]
  },
  {
   "cell_type": "code",
   "execution_count": 2,
   "metadata": {},
   "outputs": [],
   "source": [
    "!sort -rk 3 popular-names.txt > popular-names_q18.txt"
   ]
  },
  {
   "cell_type": "code",
   "execution_count": 3,
   "metadata": {},
   "outputs": [
    {
     "name": "stdout",
     "output_type": "stream",
     "text": [
      "Linda\tF\t99689\t1947\r\n",
      "James\tM\t9951\t1911\r\n",
      "Mildred\tF\t9921\t1913\r\n",
      "Mary\tF\t9889\t1886\r\n",
      "Mary\tF\t9888\t1887\r\n"
     ]
    }
   ],
   "source": [
    "!head -5 popular-names_q18.txt"
   ]
  },
  {
   "cell_type": "code",
   "execution_count": null,
   "metadata": {},
   "outputs": [],
   "source": []
  },
  {
   "cell_type": "code",
   "execution_count": null,
   "metadata": {},
   "outputs": [],
   "source": []
  }
 ],
 "metadata": {
  "kernelspec": {
   "display_name": "Python 3",
   "language": "python",
   "name": "python3"
  },
  "language_info": {
   "codemirror_mode": {
    "name": "ipython",
    "version": 3
   },
   "file_extension": ".py",
   "mimetype": "text/x-python",
   "name": "python",
   "nbconvert_exporter": "python",
   "pygments_lexer": "ipython3",
   "version": "3.7.3"
  }
 },
 "nbformat": 4,
 "nbformat_minor": 2
}
